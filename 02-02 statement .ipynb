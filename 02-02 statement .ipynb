{
 "cells": [
  {
   "cell_type": "markdown",
   "metadata": {},
   "source": [
    "# <center> Statement"
   ]
  },
  {
   "cell_type": "markdown",
   "metadata": {},
   "source": [
    "<img src=\"https://drive.google.com/uc?id=1lBMxpzPJuvN7Heb5hGOFcx0tlVHEeLl_\" align=right width=100>"
   ]
  },
  {
   "cell_type": "markdown",
   "metadata": {},
   "source": [
    "## Python statement"
   ]
  },
  {
   "cell_type": "markdown",
   "metadata": {},
   "source": [
    "<table>\n",
    "    <tr>\n",
    "        <td><div align=center><b>Statement</b></div>\n",
    "        <td><div align=center><b>หน้าที่ (Role) </b></div>\n",
    "        <td><div align=center><b>ตัวอย่าง (Example) </b></div>\n",
    "     <tr>\n",
    "         <td>Assignment การให้ค่า\n",
    "         <td>Creating references สร้างการชี้ไปที่ค่า \n",
    "         <td><pre>a, b = 'good', 'bad'</pre>\n",
    "         <div align=center>ทางขวามือเรียกว่า Literals</div>\n",
    "      <tr>\n",
    "         <td>Calls and other expressions\n",
    "         <td>Running functions \n",
    "         <td><pre>log.write(\"spam, ham\") </pre>\n",
    "    <tr>\n",
    "         <td>print calls\n",
    "         <td>Printing objects\n",
    "         <td><pre>print('The Killer', joke) </pre>\n",
    "    <tr>\n",
    "         <td>if/elif/else\n",
    "         <td>Selecting actions\n",
    "         <td><pre>if \"python\" in text: print(text) </pre>\n",
    "     <tr>\n",
    "         <td>for/else\n",
    "         <td>Iteration\n",
    "         <td><pre>for x in mylist:print(x) </pre>\n",
    "    <tr>\n",
    "         <td>while/else\n",
    "         <td>General loops\n",
    "         <td><pre>while X > Y: print('hello') </pre>\n",
    "     <tr>\n",
    "         <td>pass\n",
    "         <td>Empty placeholder\n",
    "         <td><pre>while True: pass </pre>\n",
    "    <tr>\n",
    "         <td>break\n",
    "         <td>Loop exit\n",
    "         <td><pre>while True: if exittest(): break </pre>\n",
    "     <tr>\n",
    "         <td>\n",
    "         <td>\n",
    "         <td><pre> </pre>\n",
    "              \n",
    "</table>"
   ]
  },
  {
   "cell_type": "markdown",
   "metadata": {},
   "source": [
    "## the Assignment"
   ]
  },
  {
   "cell_type": "markdown",
   "metadata": {},
   "source": [
    "statement บน Python มีลักษณะสำคัญ\n",
    "1. ใช้กั้นหน้า (Indent) บอก statement ระดับของกั้นหน้า ตามเครื่องหมาย (:)\n",
    "1. หลีกเลี่ยงการใช้วงเล็บ \"( )\" "
   ]
  },
  {
   "cell_type": "markdown",
   "metadata": {},
   "source": [
    ":\n",
    "    :\n",
    "        :\n",
    "            :\n",
    "                :"
   ]
  },
  {
   "cell_type": "markdown",
   "metadata": {},
   "source": [
    "กั้นหน้าทำให้ code ของ Phthon อ่านง่าย ทำให้ Python เป็นที่นิยมใช้"
   ]
  },
  {
   "cell_type": "code",
   "execution_count": 3,
   "metadata": {},
   "outputs": [
    {
     "data": {
      "text/plain": [
       "(1, 2)"
      ]
     },
     "execution_count": 3,
     "metadata": {},
     "output_type": "execute_result"
    }
   ],
   "source": [
    "nudge =1\n",
    "wink =2\n",
    "a,b = nudge,wink\n",
    "a,b"
   ]
  },
  {
   "cell_type": "code",
   "execution_count": null,
   "metadata": {},
   "outputs": [],
   "source": [
    "(c,d)= [nudge,wink]\n",
    "c,d"
   ]
  }
 ],
 "metadata": {
  "kernelspec": {
   "display_name": "Python 3",
   "language": "python",
   "name": "python3"
  },
  "language_info": {
   "codemirror_mode": {
    "name": "ipython",
    "version": 3
   },
   "file_extension": ".py",
   "mimetype": "text/x-python",
   "name": "python",
   "nbconvert_exporter": "python",
   "pygments_lexer": "ipython3",
   "version": "3.8.7"
  }
 },
 "nbformat": 4,
 "nbformat_minor": 4
}
